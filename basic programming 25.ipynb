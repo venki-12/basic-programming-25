{
 "cells": [
  {
   "cell_type": "code",
   "execution_count": 1,
   "metadata": {},
   "outputs": [
    {
     "data": {
      "text/plain": [
       "[('Feb', 20), ('Jan', 10), ('Mar', 30)]"
      ]
     },
     "execution_count": 1,
     "metadata": {},
     "output_type": "execute_result"
    }
   ],
   "source": [
    "#Write a function that converts a dictionary into a list of keys-values tuples.\n",
    "\n",
    "dict1 = { 'Jan': 10, 'Feb': 20, 'Mar': 30 }\n",
    "list1 = [(k, v) for k, v in dict1.items()]\n",
    "list1.sort(reverse = False)\n",
    "list1"
   ]
  },
  {
   "cell_type": "code",
   "execution_count": 2,
   "metadata": {},
   "outputs": [],
   "source": [
    "#Create a function that takes three integer arguments (a, b, c) and returns the amount of integers which are of equal value.\n",
    "def max_count():\n",
    "    a = int(input(\"Enter first integer\"))\n",
    "    b = int(input(\"Enter second integer\"))\n",
    "    c = int (input(\"Enter third integer\"))\n",
    "    if a==b and a==c and b==c:\n",
    "        print(3)\n",
    "    elif a== b or a== c or b==c:\n",
    "            print(2)\n",
    "    else:\n",
    "        print(0)"
   ]
  },
  {
   "cell_type": "code",
   "execution_count": 3,
   "metadata": {},
   "outputs": [],
   "source": [
    "#Write a function that creates a dictionary with each (key, value) pair being the (lower case, upper case) versions of a letter, respectively.\n",
    "def mapping(data):# Enter lower case character in form of list separated by comma\n",
    "    l1= []\n",
    "    l2 = []\n",
    "    for i in data:\n",
    "        l1.append(i)\n",
    "        l2.append(i.upper())\n",
    "\n",
    "    mapping_dict = dict(zip(l1,l2))\n",
    "    return mapping_dict"
   ]
  },
  {
   "cell_type": "code",
   "execution_count": 15,
   "metadata": {},
   "outputs": [],
   "source": [
    "#Write a function, that replaces all vowels in a string with a specified vowel.\n",
    "def replaceVowels () :\n",
    "    string = input(\"Enter string\")\n",
    "    vow = input(\"enter vowelyou want to replace in string with: \")\n",
    "    vowel = 'aeiouAEIOU'\n",
    "    newstr = ''\n",
    "    for character in string:\n",
    "        if character in vowel :\n",
    "            newstr += vow\n",
    "            \n",
    "        else:\n",
    "            newstr += character\n",
    "    return \"string after updating is:\" + newstr\n"
   ]
  },
  {
   "cell_type": "code",
   "execution_count": 16,
   "metadata": {},
   "outputs": [
    {
     "ename": "SyntaxError",
     "evalue": "invalid syntax (<ipython-input-16-abce71e89962>, line 13)",
     "output_type": "error",
     "traceback": [
      "\u001b[1;36m  File \u001b[1;32m\"<ipython-input-16-abce71e89962>\"\u001b[1;36m, line \u001b[1;32m13\u001b[0m\n\u001b[1;33m    return \"string after capitalizing is:\" st\u001b[0m\n\u001b[1;37m                                           ^\u001b[0m\n\u001b[1;31mSyntaxError\u001b[0m\u001b[1;31m:\u001b[0m invalid syntax\n"
     ]
    }
   ],
   "source": [
    "#Create a function that takes a string as input and capitalizes a letter if its ASCII code is even\n",
    "# and returns its lower case version if its ASCII code is odd.\n",
    "def capitalize():\n",
    "    import string\n",
    "    ascii = string.ascii_letters\n",
    "    st= ''\n",
    "    string = input(\"Enter string\")\n",
    "    for char in string:\n",
    "        if ord(char)%2==0:\n",
    "            st+=char.upper()\n",
    "        else:\n",
    "            st+=char.lower()\n",
    "    return \"string after capitalizing is:\" st"
   ]
  },
  {
   "cell_type": "code",
   "execution_count": 11,
   "metadata": {},
   "outputs": [
    {
     "name": "stdout",
     "output_type": "stream",
     "text": [
      "Enter stringhello\n",
      "enter vowelyou want to replace in string with: i\n"
     ]
    },
    {
     "data": {
      "text/plain": [
       "'hilli'"
      ]
     },
     "execution_count": 11,
     "metadata": {},
     "output_type": "execute_result"
    }
   ],
   "source": []
  }
 ],
 "metadata": {
  "kernelspec": {
   "display_name": "Python 3",
   "language": "python",
   "name": "python3"
  },
  "language_info": {
   "codemirror_mode": {
    "name": "ipython",
    "version": 3
   },
   "file_extension": ".py",
   "mimetype": "text/x-python",
   "name": "python",
   "nbconvert_exporter": "python",
   "pygments_lexer": "ipython3",
   "version": "3.8.5"
  }
 },
 "nbformat": 4,
 "nbformat_minor": 4
}
